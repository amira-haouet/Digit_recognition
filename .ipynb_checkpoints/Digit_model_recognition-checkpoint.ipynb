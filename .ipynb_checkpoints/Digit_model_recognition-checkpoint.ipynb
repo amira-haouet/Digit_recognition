{
 "cells": [
  {
   "cell_type": "markdown",
   "id": "0f44df01",
   "metadata": {},
   "source": [
    "** import **"
   ]
  },
  {
   "cell_type": "markdown",
   "id": "9c64ee6e",
   "metadata": {},
   "source": [
    "<h1> First step : import Dataset </h1>"
   ]
  },
  {
   "cell_type": "code",
   "execution_count": null,
   "id": "459d8acf",
   "metadata": {},
   "outputs": [],
   "source": []
  }
 ],
 "metadata": {
  "kernelspec": {
   "display_name": "Python 3 (ipykernel)",
   "language": "python",
   "name": "python3"
  },
  "language_info": {
   "codemirror_mode": {
    "name": "ipython",
    "version": 3
   },
   "file_extension": ".py",
   "mimetype": "text/x-python",
   "name": "python",
   "nbconvert_exporter": "python",
   "pygments_lexer": "ipython3",
   "version": "3.9.7"
  }
 },
 "nbformat": 4,
 "nbformat_minor": 5
}
