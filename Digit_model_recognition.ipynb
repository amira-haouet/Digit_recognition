{
 "cells": [
  {
   "cell_type": "markdown",
   "id": "ccad5809",
   "metadata": {},
   "source": [
    "**Create model for digit recognition using CNN**"
   ]
  },
  {
   "cell_type": "markdown",
   "id": "ef523918",
   "metadata": {},
   "source": [
    "<h2> import libraries </h2>"
   ]
  },
  {
   "cell_type": "code",
   "execution_count": 4,
   "id": "a7523f2a",
   "metadata": {},
   "outputs": [],
   "source": [
    "import tensorflow as tf\n",
    "import matplotlib.pyplot as plt \n",
    "import numpy as np \n",
    "from keras import callbacks\n",
    "from keras.utils import np_utils\n",
    "from keras import backend as K"
   ]
  },
  {
   "cell_type": "markdown",
   "id": "9eb731d1",
   "metadata": {},
   "source": [
    "<h1> First step : import Dataset (load data ) </h1>"
   ]
  },
  {
   "cell_type": "markdown",
   "id": "712e1d10",
   "metadata": {},
   "source": [
    "# Impo"
   ]
  },
  {
   "cell_type": "markdown",
   "id": "efe38c21",
   "metadata": {},
   "source": [
    "<p> i used mnist as dataset for training my model </p>"
   ]
  },
  {
   "cell_type": "code",
   "execution_count": 6,
   "id": "b47b0258",
   "metadata": {},
   "outputs": [],
   "source": [
    "mnist = tf.keras.datasets.mnist\n",
    "\n",
    "\n",
    "(x_train,y_train),(x_test,y_test)=mnist.load_data() \n"
   ]
  },
  {
   "cell_type": "markdown",
   "id": "5a1b0c0c",
   "metadata": {},
   "source": [
    "## showing some exemples from dataset"
   ]
  },
  {
   "cell_type": "code",
   "execution_count": null,
   "id": "a997fe0e",
   "metadata": {},
   "outputs": [],
   "source": [
    "\n",
    "for i in range(9):  \n",
    "    plt.subplot(330 + 1 + i)\n",
    "    plt.imshow(x_train[i], cmap=plt.get_cmap('gray'))\n",
    "plt.show()"
   ]
  }
 ],
 "metadata": {
  "kernelspec": {
   "display_name": "Python 3 (ipykernel)",
   "language": "python",
   "name": "python3"
  },
  "language_info": {
   "codemirror_mode": {
    "name": "ipython",
    "version": 3
   },
   "file_extension": ".py",
   "mimetype": "text/x-python",
   "name": "python",
   "nbconvert_exporter": "python",
   "pygments_lexer": "ipython3",
   "version": "3.9.7"
  }
 },
 "nbformat": 4,
 "nbformat_minor": 5
}
