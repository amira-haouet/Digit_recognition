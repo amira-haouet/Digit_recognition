{
 "cells": [
  {
   "cell_type": "markdown",
   "id": "8442fd68",
   "metadata": {},
   "source": [
    "## import lib"
   ]
  },
  {
   "cell_type": "code",
   "execution_count": 2,
   "id": "df910e43",
   "metadata": {},
   "outputs": [],
   "source": [
    "from tkinter import * \n"
   ]
  },
  {
   "cell_type": "markdown",
   "id": "c5bcef2b",
   "metadata": {},
   "source": [
    "## Load Model\n"
   ]
  },
  {
   "cell_type": "code",
   "execution_count": null,
   "id": "ebfe8c58",
   "metadata": {},
   "outputs": [],
   "source": [
    "model = load_model('./modeld/e_chiffres.h5')\n"
   ]
  },
  {
   "cell_type": "markdown",
   "id": "7be4fb18",
   "metadata": {},
   "source": [
    "## Initialize  Interface"
   ]
  },
  {
   "cell_type": "code",
   "execution_count": 3,
   "id": "dcb6004c",
   "metadata": {},
   "outputs": [],
   "source": [
    "\n",
    "fenetre = Tk()\n",
    "\n",
    "label = Label(fenetre, text=\"initialize\")\n",
    "label.pack()\n",
    "\n",
    "fenetre.mainloop()"
   ]
  },
  {
   "cell_type": "code",
   "execution_count": null,
   "id": "786295c7",
   "metadata": {},
   "outputs": [],
   "source": []
  }
 ],
 "metadata": {
  "kernelspec": {
   "display_name": "Python 3 (ipykernel)",
   "language": "python",
   "name": "python3"
  },
  "language_info": {
   "codemirror_mode": {
    "name": "ipython",
    "version": 3
   },
   "file_extension": ".py",
   "mimetype": "text/x-python",
   "name": "python",
   "nbconvert_exporter": "python",
   "pygments_lexer": "ipython3",
   "version": "3.9.7"
  }
 },
 "nbformat": 4,
 "nbformat_minor": 5
}
